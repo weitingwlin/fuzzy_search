{
 "cells": [
  {
   "cell_type": "code",
   "execution_count": 28,
   "metadata": {
    "collapsed": true
   },
   "outputs": [],
   "source": [
    "import requests\n",
    "import dill\n",
    "from bs4 import BeautifulSoup\n",
    "from datetime import datetime\n",
    "import numpy as np\n",
    "import pandas as pd"
   ]
  },
  {
   "cell_type": "code",
   "execution_count": null,
   "metadata": {
    "collapsed": true
   },
   "outputs": [],
   "source": []
  },
  {
   "cell_type": "code",
   "execution_count": 29,
   "metadata": {
    "collapsed": true
   },
   "outputs": [],
   "source": [
    "url = \"https://www.audible.com/adblbestsellers?ref=a_adblbests_l1_catRefs_8&pf_rd_p=a30c7ab3-6e06-4708-af2f-e103a849b3b1&pf_rd_r=0MAXQ9SPXF8FTNF46SEZ&&searchCategory=2226652011&pageSize=50\"\n",
    "page = requests.get(url)"
   ]
  },
  {
   "cell_type": "code",
   "execution_count": 21,
   "metadata": {},
   "outputs": [
    {
     "name": "stdout",
     "output_type": "stream",
     "text": [
      "com/images/I/61WhRK1mB6L.css?AUIClients/AudibleBrickCitySkin\" rel=\"stylesheet\"/>\n",
      "  <link href=\"https://images-na.ssl-images-amazon.com/images/I/01kk-PyD3wL.css?AUIClients/AudibleProductContentAssets\" rel=\"stylesheet\"/>\n",
      "  <link href=\"https://images-na.ssl-images-amazon.com/images/I/017c-E3u2tL._RC|01bz7sdOGmL.css_.css?AUIClients/AudibleBuyBoxAssets\" rel=\"stylesheet\"/>\n",
      "  <style>\n",
      "   .dlp-hero{positio\n"
     ]
    }
   ],
   "source": [
    "soup = BeautifulSoup(page.text, \"lxml\")\n",
    "print(soup.prettify()[400:800])"
   ]
  },
  {
   "cell_type": "code",
   "execution_count": 5,
   "metadata": {
    "collapsed": true
   },
   "outputs": [],
   "source": [
    "parent = soup.find('div',attrs = {'id': 'center-3'})\n",
    "# books = "
   ]
  },
  {
   "cell_type": "code",
   "execution_count": 6,
   "metadata": {},
   "outputs": [
    {
     "data": {
      "text/plain": [
       "3"
      ]
     },
     "execution_count": 6,
     "metadata": {},
     "output_type": "execute_result"
    }
   ],
   "source": [
    "len(parent)"
   ]
  },
  {
   "cell_type": "code",
   "execution_count": 7,
   "metadata": {
    "collapsed": true
   },
   "outputs": [],
   "source": [
    "books = parent.select('h3.bc-heading a')"
   ]
  },
  {
   "cell_type": "code",
   "execution_count": 8,
   "metadata": {},
   "outputs": [
    {
     "data": {
      "text/plain": [
       "50"
      ]
     },
     "execution_count": 8,
     "metadata": {},
     "output_type": "execute_result"
    }
   ],
   "source": [
    "len(books)"
   ]
  },
  {
   "cell_type": "code",
   "execution_count": 9,
   "metadata": {},
   "outputs": [
    {
     "data": {
      "text/plain": [
       "'Pet Sematary'"
      ]
     },
     "execution_count": 9,
     "metadata": {},
     "output_type": "execute_result"
    }
   ],
   "source": [
    "books[0].text"
   ]
  },
  {
   "cell_type": "code",
   "execution_count": 52,
   "metadata": {
    "collapsed": true
   },
   "outputs": [],
   "source": [
    "def title_from_page(P):\n",
    "    titles = []\n",
    "    soup = BeautifulSoup(P.text, \"lxml\")\n",
    "    parent = soup.find('div',attrs = {'id': 'center-3'})\n",
    "    books = parent.select('h3.bc-heading a')\n",
    "    for b in books:\n",
    "        titles.append(b.text)\n",
    "    return titles"
   ]
  },
  {
   "cell_type": "code",
   "execution_count": 11,
   "metadata": {},
   "outputs": [
    {
     "data": {
      "text/plain": [
       "['See Me',\n",
       " 'Lilac Girls',\n",
       " 'The Room on Rue Amélie',\n",
       " 'Middlesex',\n",
       " 'Big Little Lies',\n",
       " 'The Women in the Castle',\n",
       " 'Cutting for Stone',\n",
       " 'The Land: Founding: A LitRPG Saga',\n",
       " 'A Man Called Ove',\n",
       " 'All the Light We Cannot See',\n",
       " 'The Dark Tower I',\n",
       " 'FantasticLand',\n",
       " 'Still Me',\n",
       " \"The Handmaid's Tale\",\n",
       " 'The Masterpiece',\n",
       " 'Beach Music',\n",
       " 'The Brief Wondrous Life of Oscar Wao',\n",
       " \"The Orphan Master's Son\",\n",
       " 'The Ocean at the End of the Lane',\n",
       " 'The Kremlin Conspiracy',\n",
       " 'Small Great Things',\n",
       " 'Accidental Heroes',\n",
       " 'Dragonfly in Amber ',\n",
       " 'Dreamsongs (Unabridged Selections)',\n",
       " 'Mischling']"
      ]
     },
     "execution_count": 11,
     "metadata": {},
     "output_type": "execute_result"
    }
   ],
   "source": [
    "title_from_page(page)[25:]"
   ]
  },
  {
   "cell_type": "markdown",
   "metadata": {},
   "source": [
    "### scraping multiple pages"
   ]
  },
  {
   "cell_type": "markdown",
   "metadata": {
    "collapsed": true
   },
   "source": [
    "###'https://www.audible.com/adblbestsellers?ref=a_adblbests_c5_pageNum_1&pf_rd_p=e1595489-c152-4314-a5d7-ed60b7e2ecc8&pf_rd_r=YSX8A1QFJB9W5WX4Y9NF&&searchCategory=2226652011&pageSize=50&page=2'\n",
    "###'https://www.audible.com/adblbestsellers?ref=a_adblbests_c5_pageBack&pf_rd_p=e1595489-c152-4314-a5d7-ed60b7e2ecc8&pf_rd_r=YFM8398MNSGEFK7C6V03&&searchCategory=2226652011&pageSize=50&page=1'"
   ]
  },
  {
   "cell_type": "code",
   "execution_count": 53,
   "metadata": {
    "collapsed": true
   },
   "outputs": [],
   "source": [
    "# maybe remove the () and deal with encoding ( The Room on Rue Am\\xe9lie)(not a problem with python3)\n",
    "#\n",
    "def get_page_args(i):\n",
    "    return {\"url\": url,\n",
    "            \"params\": {\"page\": i}}"
   ]
  },
  {
   "cell_type": "code",
   "execution_count": 54,
   "metadata": {},
   "outputs": [
    {
     "name": "stdout",
     "output_type": "stream",
     "text": [
      "1\n",
      "2\n"
     ]
    }
   ],
   "source": [
    "LIMIT = 2\n",
    "books = []\n",
    "for p in range(1,LIMIT+1):\n",
    "    print(p)\n",
    "    books = books + title_from_page(requests.get(**get_page_args(p)))\n",
    "# [title_from_page(requests.get(**get_page_args(i))) for i in xrange(LIMIT)]"
   ]
  },
  {
   "cell_type": "code",
   "execution_count": 51,
   "metadata": {},
   "outputs": [
    {
     "data": {
      "text/plain": [
       "{'params': {'page': 1},\n",
       " 'url': 'https://www.audible.com/adblbestsellers?ref=a_adblbests_l1_catRefs_8&pf_rd_p=a30c7ab3-6e06-4708-af2f-e103a849b3b1&pf_rd_r=0MAXQ9SPXF8FTNF46SEZ&&searchCategory=2226652011&pageSize=50'}"
      ]
     },
     "execution_count": 51,
     "metadata": {},
     "output_type": "execute_result"
    }
   ],
   "source": [
    "get_page_args(1)"
   ]
  },
  {
   "cell_type": "markdown",
   "metadata": {},
   "source": [
    "## make it a df"
   ]
  },
  {
   "cell_type": "code",
   "execution_count": 55,
   "metadata": {},
   "outputs": [
    {
     "data": {
      "text/html": [
       "<div>\n",
       "<style scoped>\n",
       "    .dataframe tbody tr th:only-of-type {\n",
       "        vertical-align: middle;\n",
       "    }\n",
       "\n",
       "    .dataframe tbody tr th {\n",
       "        vertical-align: top;\n",
       "    }\n",
       "\n",
       "    .dataframe thead th {\n",
       "        text-align: right;\n",
       "    }\n",
       "</style>\n",
       "<table border=\"1\" class=\"dataframe\">\n",
       "  <thead>\n",
       "    <tr style=\"text-align: right;\">\n",
       "      <th></th>\n",
       "      <th>title</th>\n",
       "    </tr>\n",
       "  </thead>\n",
       "  <tbody>\n",
       "    <tr>\n",
       "      <th>0</th>\n",
       "      <td>Pet Sematary</td>\n",
       "    </tr>\n",
       "    <tr>\n",
       "      <th>1</th>\n",
       "      <td>The Great Alone</td>\n",
       "    </tr>\n",
       "    <tr>\n",
       "      <th>2</th>\n",
       "      <td>Before We Were Yours</td>\n",
       "    </tr>\n",
       "    <tr>\n",
       "      <th>3</th>\n",
       "      <td>Little Fires Everywhere</td>\n",
       "    </tr>\n",
       "    <tr>\n",
       "      <th>4</th>\n",
       "      <td>An American Marriage (Oprah’s Book Club)</td>\n",
       "    </tr>\n",
       "  </tbody>\n",
       "</table>\n",
       "</div>"
      ],
      "text/plain": [
       "                                      title\n",
       "0                              Pet Sematary\n",
       "1                           The Great Alone\n",
       "2                      Before We Were Yours\n",
       "3                   Little Fires Everywhere\n",
       "4  An American Marriage (Oprah’s Book Club)"
      ]
     },
     "execution_count": 55,
     "metadata": {},
     "output_type": "execute_result"
    }
   ],
   "source": [
    "df = pd.DataFrame(books, columns=['title'])\n",
    "df.head()"
   ]
  },
  {
   "cell_type": "code",
   "execution_count": 56,
   "metadata": {},
   "outputs": [
    {
     "data": {
      "text/html": [
       "<div>\n",
       "<style scoped>\n",
       "    .dataframe tbody tr th:only-of-type {\n",
       "        vertical-align: middle;\n",
       "    }\n",
       "\n",
       "    .dataframe tbody tr th {\n",
       "        vertical-align: top;\n",
       "    }\n",
       "\n",
       "    .dataframe thead th {\n",
       "        text-align: right;\n",
       "    }\n",
       "</style>\n",
       "<table border=\"1\" class=\"dataframe\">\n",
       "  <thead>\n",
       "    <tr style=\"text-align: right;\">\n",
       "      <th></th>\n",
       "      <th>title</th>\n",
       "    </tr>\n",
       "  </thead>\n",
       "  <tbody>\n",
       "    <tr>\n",
       "      <th>51</th>\n",
       "      <td>Surprise Me</td>\n",
       "    </tr>\n",
       "    <tr>\n",
       "      <th>52</th>\n",
       "      <td>Ireland</td>\n",
       "    </tr>\n",
       "    <tr>\n",
       "      <th>53</th>\n",
       "      <td>The Land: Forging</td>\n",
       "    </tr>\n",
       "    <tr>\n",
       "      <th>54</th>\n",
       "      <td>Good Omens</td>\n",
       "    </tr>\n",
       "    <tr>\n",
       "      <th>55</th>\n",
       "      <td>The Immortalists</td>\n",
       "    </tr>\n",
       "    <tr>\n",
       "      <th>56</th>\n",
       "      <td>The Power</td>\n",
       "    </tr>\n",
       "    <tr>\n",
       "      <th>57</th>\n",
       "      <td>A Column of Fire</td>\n",
       "    </tr>\n",
       "    <tr>\n",
       "      <th>58</th>\n",
       "      <td>Voyager</td>\n",
       "    </tr>\n",
       "    <tr>\n",
       "      <th>59</th>\n",
       "      <td>Almost Missed You</td>\n",
       "    </tr>\n",
       "  </tbody>\n",
       "</table>\n",
       "</div>"
      ],
      "text/plain": [
       "                title\n",
       "51        Surprise Me\n",
       "52            Ireland\n",
       "53  The Land: Forging\n",
       "54         Good Omens\n",
       "55   The Immortalists\n",
       "56          The Power\n",
       "57   A Column of Fire\n",
       "58            Voyager\n",
       "59  Almost Missed You"
      ]
     },
     "execution_count": 56,
     "metadata": {},
     "output_type": "execute_result"
    }
   ],
   "source": [
    "df.iloc[51:60]"
   ]
  },
  {
   "cell_type": "code",
   "execution_count": 57,
   "metadata": {
    "collapsed": true
   },
   "outputs": [],
   "source": [
    "df.to_csv('fiction.csv')"
   ]
  },
  {
   "cell_type": "markdown",
   "metadata": {},
   "source": [
    "## next\n",
    "get titles from othe rcatergories"
   ]
  },
  {
   "cell_type": "code",
   "execution_count": 35,
   "metadata": {},
   "outputs": [
    {
     "data": {
      "text/plain": [
       "['The Great Alone',\n",
       " 'Before We Were Yours',\n",
       " 'Little Fires Everywhere',\n",
       " 'An American Marriage (Oprah’s Book Club)',\n",
       " 'The Alice Network',\n",
       " 'Tangerine',\n",
       " 'The Terror',\n",
       " 'A Gentleman in Moscow',\n",
       " 'It']"
      ]
     },
     "execution_count": 35,
     "metadata": {},
     "output_type": "execute_result"
    }
   ],
   "source": [
    "books[51:60]"
   ]
  },
  {
   "cell_type": "code",
   "execution_count": 37,
   "metadata": {},
   "outputs": [
    {
     "data": {
      "text/plain": [
       "['The Great Alone',\n",
       " 'Before We Were Yours',\n",
       " 'Little Fires Everywhere',\n",
       " 'An American Marriage (Oprah’s Book Club)',\n",
       " 'The Alice Network',\n",
       " 'Tangerine',\n",
       " 'The Terror',\n",
       " 'A Gentleman in Moscow',\n",
       " 'It']"
      ]
     },
     "execution_count": 37,
     "metadata": {},
     "output_type": "execute_result"
    }
   ],
   "source": [
    "books[101:110]"
   ]
  },
  {
   "cell_type": "code",
   "execution_count": null,
   "metadata": {
    "collapsed": true
   },
   "outputs": [],
   "source": []
  }
 ],
 "metadata": {
  "kernelspec": {
   "display_name": "Python 3",
   "language": "python",
   "name": "python3"
  },
  "language_info": {
   "codemirror_mode": {
    "name": "ipython",
    "version": 3
   },
   "file_extension": ".py",
   "mimetype": "text/x-python",
   "name": "python",
   "nbconvert_exporter": "python",
   "pygments_lexer": "ipython3",
   "version": "3.5.3"
  }
 },
 "nbformat": 4,
 "nbformat_minor": 2
}

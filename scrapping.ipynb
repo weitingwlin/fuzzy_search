{
 "cells": [
  {
   "cell_type": "code",
   "execution_count": 1,
   "metadata": {
    "collapsed": true
   },
   "outputs": [],
   "source": [
    "import requests\n",
    "import dill\n",
    "from bs4 import BeautifulSoup\n",
    "from datetime import datetime\n",
    "import numpy as np\n",
    "import pandas as pd"
   ]
  },
  {
   "cell_type": "code",
   "execution_count": null,
   "metadata": {
    "collapsed": true
   },
   "outputs": [],
   "source": []
  },
  {
   "cell_type": "code",
   "execution_count": 3,
   "metadata": {
    "collapsed": true
   },
   "outputs": [],
   "source": [
    "url = {'fiction_best':\"https://www.audible.com/adblbestsellers?ref=a_adblbests_l1_catRefs_8&pf_rd_p=a30c7ab3-6e06-4708-af2f-e103a849b3b1&pf_rd_r=0MAXQ9SPXF8FTNF46SEZ&&searchCategory=2226652011&pageSize=50\"}\n",
    "page = requests.get(url['fiction_best'])"
   ]
  },
  {
   "cell_type": "code",
   "execution_count": 4,
   "metadata": {},
   "outputs": [
    {
     "name": "stdout",
     "output_type": "stream",
     "text": [
      "com/images/I/61WhRK1mB6L.css?AUIClients/AudibleBrickCitySkin\" rel=\"stylesheet\"/>\n",
      "  <link href=\"https://images-na.ssl-images-amazon.com/images/I/01kk-PyD3wL.css?AUIClients/AudibleProductContentAssets\" rel=\"stylesheet\"/>\n",
      "  <link href=\"https://images-na.ssl-images-amazon.com/images/I/017c-E3u2tL._RC|01bz7sdOGmL.css_.css?AUIClients/AudibleBuyBoxAssets\" rel=\"stylesheet\"/>\n",
      "  <style>\n",
      "   .dlp-hero{positio\n"
     ]
    }
   ],
   "source": [
    "soup = BeautifulSoup(page.text, \"lxml\")\n",
    "print(soup.prettify()[400:800])"
   ]
  },
  {
   "cell_type": "code",
   "execution_count": 4,
   "metadata": {
    "collapsed": true
   },
   "outputs": [],
   "source": [
    "parent = soup.find('div',attrs = {'id': 'center-3'})\n",
    "# books = "
   ]
  },
  {
   "cell_type": "code",
   "execution_count": 5,
   "metadata": {},
   "outputs": [
    {
     "data": {
      "text/plain": [
       "3"
      ]
     },
     "execution_count": 5,
     "metadata": {},
     "output_type": "execute_result"
    }
   ],
   "source": [
    "len(parent)"
   ]
  },
  {
   "cell_type": "code",
   "execution_count": 6,
   "metadata": {
    "collapsed": true
   },
   "outputs": [],
   "source": [
    "books = parent.select('h3.bc-heading a')"
   ]
  },
  {
   "cell_type": "code",
   "execution_count": 7,
   "metadata": {},
   "outputs": [
    {
     "data": {
      "text/plain": [
       "50"
      ]
     },
     "execution_count": 7,
     "metadata": {},
     "output_type": "execute_result"
    }
   ],
   "source": [
    "len(books)"
   ]
  },
  {
   "cell_type": "code",
   "execution_count": 8,
   "metadata": {},
   "outputs": [
    {
     "data": {
      "text/plain": [
       "'Olive Kitteridge'"
      ]
     },
     "execution_count": 8,
     "metadata": {},
     "output_type": "execute_result"
    }
   ],
   "source": [
    "books[0].text"
   ]
  },
  {
   "cell_type": "code",
   "execution_count": 5,
   "metadata": {
    "collapsed": true
   },
   "outputs": [],
   "source": [
    "def title_from_page(P):\n",
    "    titles = []\n",
    "    soup = BeautifulSoup(P.text, \"lxml\")\n",
    "    parent = soup.find('div',attrs = {'id': 'center-3'})\n",
    "    books = parent.select('h3.bc-heading a')\n",
    "    for b in books:\n",
    "        titles.append(b.text)\n",
    "    return titles"
   ]
  },
  {
   "cell_type": "code",
   "execution_count": 10,
   "metadata": {},
   "outputs": [
    {
     "data": {
      "text/plain": [
       "['The Ice Cream Queen of Orchard Street',\n",
       " 'A Man Called Ove',\n",
       " 'Beautiful Ruins',\n",
       " 'The Dark Tower I',\n",
       " 'The Ninth Hour']"
      ]
     },
     "execution_count": 10,
     "metadata": {},
     "output_type": "execute_result"
    }
   ],
   "source": [
    "title_from_page(page)[45:]"
   ]
  },
  {
   "cell_type": "markdown",
   "metadata": {},
   "source": [
    "### scraping multiple pages"
   ]
  },
  {
   "cell_type": "markdown",
   "metadata": {
    "collapsed": true
   },
   "source": [
    "###'https://www.audible.com/adblbestsellers?ref=a_adblbests_c5_pageNum_1&pf_rd_p=e1595489-c152-4314-a5d7-ed60b7e2ecc8&pf_rd_r=YSX8A1QFJB9W5WX4Y9NF&&searchCategory=2226652011&pageSize=50&page=2'\n",
    "###'https://www.audible.com/adblbestsellers?ref=a_adblbests_c5_pageBack&pf_rd_p=e1595489-c152-4314-a5d7-ed60b7e2ecc8&pf_rd_r=YFM8398MNSGEFK7C6V03&&searchCategory=2226652011&pageSize=50&page=1'"
   ]
  },
  {
   "cell_type": "code",
   "execution_count": 12,
   "metadata": {
    "collapsed": true
   },
   "outputs": [],
   "source": [
    "# maybe remove the () and deal with encoding ( The Room on Rue Am\\xe9lie)(not a problem with python3)\n",
    "#\n",
    "def get_page_args(i):\n",
    "    return {\"url\": url,\n",
    "            \"params\": {\"page\": i}}"
   ]
  },
  {
   "cell_type": "code",
   "execution_count": 13,
   "metadata": {},
   "outputs": [
    {
     "name": "stdout",
     "output_type": "stream",
     "text": [
      "1\n",
      "2\n"
     ]
    }
   ],
   "source": [
    "LIMIT = 2\n",
    "books = []\n",
    "for p in range(1,LIMIT+1):\n",
    "    print(p)\n",
    "    books = books + title_from_page(requests.get(**get_page_args(p)))\n",
    "# [title_from_page(requests.get(**get_page_args(i))) for i in xrange(LIMIT)]"
   ]
  },
  {
   "cell_type": "code",
   "execution_count": 14,
   "metadata": {},
   "outputs": [
    {
     "data": {
      "text/plain": [
       "{'params': {'page': 1},\n",
       " 'url': 'https://www.audible.com/adblbestsellers?ref=a_adblbests_l1_catRefs_8&pf_rd_p=a30c7ab3-6e06-4708-af2f-e103a849b3b1&pf_rd_r=0MAXQ9SPXF8FTNF46SEZ&&searchCategory=2226652011&pageSize=50'}"
      ]
     },
     "execution_count": 14,
     "metadata": {},
     "output_type": "execute_result"
    }
   ],
   "source": [
    "get_page_args(1)"
   ]
  },
  {
   "cell_type": "markdown",
   "metadata": {},
   "source": [
    "## some triming\n"
   ]
  },
  {
   "cell_type": "code",
   "execution_count": 27,
   "metadata": {
    "collapsed": true
   },
   "outputs": [],
   "source": [
    "import re"
   ]
  },
  {
   "cell_type": "code",
   "execution_count": 28,
   "metadata": {
    "collapsed": true
   },
   "outputs": [],
   "source": [
    "books = [re.sub('\\(.*\\)|- Vol. [0-9]+', '', b) for b in books]"
   ]
  },
  {
   "cell_type": "markdown",
   "metadata": {},
   "source": [
    "## make it a df"
   ]
  },
  {
   "cell_type": "code",
   "execution_count": null,
   "metadata": {
    "collapsed": true
   },
   "outputs": [],
   "source": []
  },
  {
   "cell_type": "code",
   "execution_count": 29,
   "metadata": {},
   "outputs": [
    {
     "data": {
      "text/html": [
       "<div>\n",
       "<style scoped>\n",
       "    .dataframe tbody tr th:only-of-type {\n",
       "        vertical-align: middle;\n",
       "    }\n",
       "\n",
       "    .dataframe tbody tr th {\n",
       "        vertical-align: top;\n",
       "    }\n",
       "\n",
       "    .dataframe thead th {\n",
       "        text-align: right;\n",
       "    }\n",
       "</style>\n",
       "<table border=\"1\" class=\"dataframe\">\n",
       "  <thead>\n",
       "    <tr style=\"text-align: right;\">\n",
       "      <th></th>\n",
       "      <th>title</th>\n",
       "    </tr>\n",
       "  </thead>\n",
       "  <tbody>\n",
       "    <tr>\n",
       "      <th>0</th>\n",
       "      <td>Olive Kitteridge</td>\n",
       "    </tr>\n",
       "    <tr>\n",
       "      <th>1</th>\n",
       "      <td>The Great Alone</td>\n",
       "    </tr>\n",
       "    <tr>\n",
       "      <th>2</th>\n",
       "      <td>Before We Were Yours</td>\n",
       "    </tr>\n",
       "    <tr>\n",
       "      <th>3</th>\n",
       "      <td>Pet Sematary</td>\n",
       "    </tr>\n",
       "    <tr>\n",
       "      <th>4</th>\n",
       "      <td>Little Fires Everywhere</td>\n",
       "    </tr>\n",
       "  </tbody>\n",
       "</table>\n",
       "</div>"
      ],
      "text/plain": [
       "                     title\n",
       "0         Olive Kitteridge\n",
       "1          The Great Alone\n",
       "2     Before We Were Yours\n",
       "3             Pet Sematary\n",
       "4  Little Fires Everywhere"
      ]
     },
     "execution_count": 29,
     "metadata": {},
     "output_type": "execute_result"
    }
   ],
   "source": [
    "df = pd.DataFrame(books, columns=['title'])\n",
    "df.head()"
   ]
  },
  {
   "cell_type": "code",
   "execution_count": 30,
   "metadata": {},
   "outputs": [
    {
     "data": {
      "text/html": [
       "<div>\n",
       "<style scoped>\n",
       "    .dataframe tbody tr th:only-of-type {\n",
       "        vertical-align: middle;\n",
       "    }\n",
       "\n",
       "    .dataframe tbody tr th {\n",
       "        vertical-align: top;\n",
       "    }\n",
       "\n",
       "    .dataframe thead th {\n",
       "        text-align: right;\n",
       "    }\n",
       "</style>\n",
       "<table border=\"1\" class=\"dataframe\">\n",
       "  <thead>\n",
       "    <tr style=\"text-align: right;\">\n",
       "      <th></th>\n",
       "      <th>title</th>\n",
       "    </tr>\n",
       "  </thead>\n",
       "  <tbody>\n",
       "    <tr>\n",
       "      <th>51</th>\n",
       "      <td>History Is All You Left Me</td>\n",
       "    </tr>\n",
       "    <tr>\n",
       "      <th>52</th>\n",
       "      <td>The Land: Founding: A LitRPG Saga</td>\n",
       "    </tr>\n",
       "    <tr>\n",
       "      <th>53</th>\n",
       "      <td>The Thirteenth Tale</td>\n",
       "    </tr>\n",
       "    <tr>\n",
       "      <th>54</th>\n",
       "      <td>Still Me</td>\n",
       "    </tr>\n",
       "    <tr>\n",
       "      <th>55</th>\n",
       "      <td>The Zombie Survival Guide</td>\n",
       "    </tr>\n",
       "    <tr>\n",
       "      <th>56</th>\n",
       "      <td>Beloved</td>\n",
       "    </tr>\n",
       "    <tr>\n",
       "      <th>57</th>\n",
       "      <td>All the Light We Cannot See</td>\n",
       "    </tr>\n",
       "    <tr>\n",
       "      <th>58</th>\n",
       "      <td>The Lady Elizabeth</td>\n",
       "    </tr>\n",
       "    <tr>\n",
       "      <th>59</th>\n",
       "      <td>The Women in the Castle</td>\n",
       "    </tr>\n",
       "  </tbody>\n",
       "</table>\n",
       "</div>"
      ],
      "text/plain": [
       "                                title\n",
       "51         History Is All You Left Me\n",
       "52  The Land: Founding: A LitRPG Saga\n",
       "53                The Thirteenth Tale\n",
       "54                           Still Me\n",
       "55          The Zombie Survival Guide\n",
       "56                            Beloved\n",
       "57        All the Light We Cannot See\n",
       "58                 The Lady Elizabeth\n",
       "59            The Women in the Castle"
      ]
     },
     "execution_count": 30,
     "metadata": {},
     "output_type": "execute_result"
    }
   ],
   "source": [
    "df.iloc[51:60]"
   ]
  },
  {
   "cell_type": "code",
   "execution_count": 31,
   "metadata": {
    "collapsed": true
   },
   "outputs": [],
   "source": [
    "df.to_csv('fiction.csv', index=False)"
   ]
  },
  {
   "cell_type": "markdown",
   "metadata": {},
   "source": [
    "## next\n",
    "get titles from othe rcatergories"
   ]
  },
  {
   "cell_type": "code",
   "execution_count": 2,
   "metadata": {},
   "outputs": [],
   "source": [
    "# books"
   ]
  },
  {
   "cell_type": "code",
   "execution_count": 16,
   "metadata": {
    "collapsed": true
   },
   "outputs": [],
   "source": [
    "import re"
   ]
  },
  {
   "cell_type": "code",
   "execution_count": 5,
   "metadata": {
    "collapsed": true
   },
   "outputs": [],
   "source": [
    "## get ratings"
   ]
  },
  {
   "cell_type": "markdown",
   "metadata": {},
   "source": [
    "## get more books"
   ]
  },
  {
   "cell_type": "code",
   "execution_count": 17,
   "metadata": {
    "collapsed": true
   },
   "outputs": [],
   "source": [
    "import re"
   ]
  },
  {
   "cell_type": "code",
   "execution_count": 87,
   "metadata": {
    "collapsed": true
   },
   "outputs": [],
   "source": [
    "url = 'https://www.audible.com/search?field_browse=2226652011&field_subjectbin=2226652011&searchRank=salesrank&field_language=9178177011&ref=a_cat_Ficti_c3_showmore&pf_rd_p=0294277f-3b18-4336-85fe-66d1fc729fee&pf_rd_r=GBZ69PWWB1VFC5VE4TRN&'\n",
    "\n",
    "LIMIT = 25\n",
    "books = []\n",
    "def get_page_args2(url, i):\n",
    "    return {\"url\": url,\n",
    "            \"params\": {\"page\": i}}\n"
   ]
  },
  {
   "cell_type": "code",
   "execution_count": 88,
   "metadata": {},
   "outputs": [],
   "source": [
    "for p in range(1,LIMIT+1):\n",
    "#     print(p)\n",
    "    books = books + title_from_page(requests.get(**get_page_args2(url,p)))\n"
   ]
  },
  {
   "cell_type": "markdown",
   "metadata": {},
   "source": [
    "### triming out the book title"
   ]
  },
  {
   "cell_type": "code",
   "execution_count": 89,
   "metadata": {},
   "outputs": [],
   "source": [
    "books = [re.sub('\\(.*\\)| Vol. [0-9]+|\\[.*\\]|Special Edition|Expanded Edition', '', b) for b in books]\n",
    "fiction_books = books"
   ]
  },
  {
   "cell_type": "code",
   "execution_count": 90,
   "metadata": {},
   "outputs": [],
   "source": [
    "# batch +=20\n",
    "# # batch = 0\n",
    "# books[batch: (batch + 20)]\n",
    "# # "
   ]
  },
  {
   "cell_type": "code",
   "execution_count": 75,
   "metadata": {
    "collapsed": true
   },
   "outputs": [],
   "source": [
    "# Special Edition,  [Naxos AudioBooks Edition], [Audible Edition],  Expanded Edition, Vol. 1"
   ]
  },
  {
   "cell_type": "code",
   "execution_count": 91,
   "metadata": {},
   "outputs": [
    {
     "data": {
      "text/plain": [
       "500"
      ]
     },
     "execution_count": 91,
     "metadata": {},
     "output_type": "execute_result"
    }
   ],
   "source": [
    "len(books)"
   ]
  },
  {
   "cell_type": "code",
   "execution_count": 113,
   "metadata": {},
   "outputs": [],
   "source": [
    "temp = []\n",
    "for b in books:\n",
    "    temp = temp + re.split('[\\W\\s]+', b.lower()) "
   ]
  },
  {
   "cell_type": "code",
   "execution_count": 114,
   "metadata": {},
   "outputs": [],
   "source": [
    "book_dict = set(temp)"
   ]
  },
  {
   "cell_type": "code",
   "execution_count": 115,
   "metadata": {
    "collapsed": true
   },
   "outputs": [],
   "source": [
    "df = pd.DataFrame(books, columns=['title'])\n",
    "df.to_csv('fiction_500.csv', index=False)"
   ]
  },
  {
   "cell_type": "code",
   "execution_count": null,
   "metadata": {
    "collapsed": true
   },
   "outputs": [],
   "source": []
  }
 ],
 "metadata": {
  "kernelspec": {
   "display_name": "Python 3",
   "language": "python",
   "name": "python3"
  },
  "language_info": {
   "codemirror_mode": {
    "name": "ipython",
    "version": 3
   },
   "file_extension": ".py",
   "mimetype": "text/x-python",
   "name": "python",
   "nbconvert_exporter": "python",
   "pygments_lexer": "ipython3",
   "version": "3.5.3"
  }
 },
 "nbformat": 4,
 "nbformat_minor": 2
}

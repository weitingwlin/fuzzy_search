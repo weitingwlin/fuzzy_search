{
 "cells": [
  {
   "cell_type": "markdown",
   "metadata": {},
   "source": [
    "[Flask tutorial](https://blog.miguelgrinberg.com/post/the-flask-mega-tutorial-part-i-hello-world)\n",
    "#### 1.1. make a folder \n",
    "#### 1.2. make a main `.py` file (name whatever, the name of the app)\n",
    "\n",
    "`fuzzy_search_flask/fuzzy.py`\n",
    "\n",
    "with one line in the file\n",
    "\n",
    "`from app import app`\n",
    "\n",
    "#### 1.3. make a folder named `app`\n",
    "#### 1.4. With `__init__.py` and `route.py` within\n",
    "\n",
    "`fuzzy_search_flask/app/__init__.py`\n",
    "\n",
    "`fuzzy_search_flask/app/route.py`"
   ]
  },
  {
   "cell_type": "markdown",
   "metadata": {},
   "source": [
    "#### 1.5. the templates\n",
    "for now, add a very basic html\n",
    "\n",
    "`app/template/index.html`\n",
    "\n",
    "#### 1.6. get the flask running\n",
    "in terminal\n",
    "\n",
    "`export FLASK_APP=fuzzy.py`\n",
    "`flask run`\n",
    "\n",
    "Should see the app running on the localhost"
   ]
  },
  {
   "cell_type": "markdown",
   "metadata": {},
   "source": [
    "### 2. Making a base template\n",
    "\n",
    "the line `bootstrap = Bootstrap(app)` in the __init__.py will bring in the bootstrap templates\n",
    "\n",
    "#### 2.2 change the index.html \n",
    "[code](index1.html)\n"
   ]
  },
  {
   "cell_type": "markdown",
   "metadata": {},
   "source": [
    "### 3. Build a new page\n",
    "\n",
    "#### 3.1 add route \n",
    "#### 3.2 add html"
   ]
  },
  {
   "cell_type": "markdown",
   "metadata": {},
   "source": [
    "### 4. Build up content: form\n",
    "#### 4.1 add form classes in a new .py file\n",
    "#### 4.2 create an instance of the form class in route.py\n",
    "4.2.1 `from app.forms import AppForm`\n",
    "\n",
    "4.2.2 form = AppForm()\n",
    "\n",
    "#### 4.3 Secret key\n",
    " at the outer level add `config.py`\n",
    " \n",
    " * in `__init__.py` add 2 lines\n",
    " \n",
    " ```\n",
    " from config import Config\n",
    " app.config.from_object(Config)\n",
    " ```\n",
    "#### 4.4 add the form to HTML\n",
    "\n",
    "* pass `form` instance to the `render_template` function as variable\n",
    "* add form tags within`{{  }}` in the html file\n",
    "\n",
    "\n",
    "\n",
    " \n",
    " "
   ]
  },
  {
   "cell_type": "markdown",
   "metadata": {},
   "source": [
    "#### get data\n",
    "\n",
    "include `methods=['GET', 'POST']` in the route decorator\n",
    "\n",
    "`@app.route('/app', methods=['GET', 'POST'])`\n",
    "\n",
    "pass output as variable\n",
    "\n",
    "add tag in html"
   ]
  },
  {
   "cell_type": "code",
   "execution_count": null,
   "metadata": {
    "collapsed": true
   },
   "outputs": [],
   "source": []
  }
 ],
 "metadata": {
  "kernelspec": {
   "display_name": "Python 3",
   "language": "python",
   "name": "python3"
  },
  "language_info": {
   "codemirror_mode": {
    "name": "ipython",
    "version": 3
   },
   "file_extension": ".py",
   "mimetype": "text/x-python",
   "name": "python",
   "nbconvert_exporter": "python",
   "pygments_lexer": "ipython3",
   "version": "3.5.3"
  }
 },
 "nbformat": 4,
 "nbformat_minor": 2
}
